{
 "cells": [
  {
   "cell_type": "markdown",
   "metadata": {},
   "source": [
    "# The Chicken or the Beef? Why Everyone Loves Neural Networks"
   ]
  },
  {
   "cell_type": "markdown",
   "metadata": {},
   "source": [
    "*by Ra Inta*\n",
    "\n",
    "*MIT licence, 2019*"
   ]
  },
  {
   "cell_type": "markdown",
   "metadata": {},
   "source": [
    "## Overview\n",
    "You're probably here because you've heard how awesome Artificial Neural Networks (ANNs) or Deep Learning algorithms are, and would like to know a few more details. Welcome! Make yourself at home.\n",
    "\n",
    "We'll take you on a brief tour of the conceptual foundations behind ANNs, through the lens of having to make a meal choice whilst stuck on a long plane flight. We'll see how to encode this problem using Python's Keras and TensorFlow libraries, before extending the model to more complex cases, by constructing ANNs with various architectures. This will lead the way -- at least provide a sketch of the intricate map -- towards Deep Learning."
   ]
  },
  {
   "cell_type": "markdown",
   "metadata": {},
   "source": [
    "## Libraries"
   ]
  },
  {
   "cell_type": "code",
   "execution_count": 1,
   "metadata": {},
   "outputs": [],
   "source": [
    "import os\n",
    "import pathlib\n",
    "import sys\n",
    "import numpy as np\n",
    "import pandas as pd\n",
    "import matplotlib\n",
    "import matplotlib.pyplot as plt"
   ]
  },
  {
   "cell_type": "code",
   "execution_count": 2,
   "metadata": {},
   "outputs": [],
   "source": [
    "import tensorflow as tf\n",
    "from tensorflow import keras"
   ]
  },
  {
   "cell_type": "code",
   "execution_count": 3,
   "metadata": {},
   "outputs": [],
   "source": [
    "## Enable inline plotting for graphics\n",
    "%matplotlib inline\n",
    "## Output more than the last command in a cell\n",
    "from IPython.core.interactiveshell import InteractiveShell\n",
    "InteractiveShell.ast_node_interactivity = \"all\""
   ]
  },
  {
   "cell_type": "markdown",
   "metadata": {},
   "source": [
    "These are the versions of the libraries I will be using for this notebook:"
   ]
  },
  {
   "cell_type": "code",
   "execution_count": 4,
   "metadata": {},
   "outputs": [
    {
     "name": "stdout",
     "output_type": "stream",
     "text": [
      "3.6.7 | packaged by conda-forge | (default, Feb 26 2019, 03:50:56) \n",
      "[GCC 7.3.0]\n",
      "Pandas version: 0.24.1\n",
      "Matplotlib version: 3.0.3\n",
      "Numpy version: 1.15.4\n",
      "Tensorflow version: 1.10.0\n"
     ]
    }
   ],
   "source": [
    "print(sys.version)\n",
    "print(\"Pandas version: {0}\".format(pd.__version__))\n",
    "print(\"Matplotlib version: {0}\".format(matplotlib.__version__))\n",
    "print(\"Numpy version: {0}\".format(np.__version__))\n",
    "print(\"Tensorflow version: {0}\".format(tf.__version__))"
   ]
  },
  {
   "cell_type": "markdown",
   "metadata": {},
   "source": [
    "## The most basic artificial neuron: the Perceptron\n",
    "\n",
    "Let's say you have an important decision to make. You are hungry and wish to be sated. However, you are on an airplane, so your options are 'chicken' or 'beef'. Your target variable is 'satisfaction,' which will not be achieved if you choose neither, or both, options. You must make this decision while you have the flight attendant's attention. Finally, the attendant is new and very busy, and may not recall your first choice, so you will have to be explicit about what you _do not_ wish, as well as what you do (or perhaps they ran out of one option and another attendant has to provide this option later, without information on the first meal option).\n",
    "\n",
    "This contrived scenario is simple by design. Yet how would we go about modeling this decision?"
   ]
  },
  {
   "cell_type": "markdown",
   "metadata": {},
   "source": [
    "We could approach this as a linear regression problem: $f(x) = w_1x_1 + w_2x_2 + b$, where the $w_i$ are the weights of the inputs $x_i$, and minimize the least squares cost function, $J(x) = \\sum_{r} (f'(x) - f(x))^2$, where the $r$ run over all the input values.\n",
    "\n",
    "However, consider an intrinsic problem here. The final decision depends wholly on the interaction between the two input variables, 'chicken' (say, $x_1$) or 'beef' ($x_2$):\n",
    "\n",
    "![Decision plane for meals... on a plane](images/chicken_or_beef_decision_plane.png)\n",
    "\n",
    "If $x_1$ is maximal, we wish the value of $x_2$ to be minimal, and vice-versa. But we can't just change the coefficients from a regression at will!\n",
    "\n",
    "In other words, there is no single line that separates the Chicken-Beef ($x_1-x_2$) plane to define a distinct _decision boundary_ between the two classes, 'sated' and 'not sated'. However, we may do this with _two_ lines (and logical comparisons):\n",
    "\n",
    "![Division of decision plane using two linear regions](images/chicken_or_beef_twoLines2.png)\n",
    "\n",
    "The lower (green) line marks a boundary between the (0, 0) point and the other three, containing all but the origin point. The upper (blue) line defines a region that contains only the (1, 1) point.\n",
    "\n",
    "In other words, the regions defined by:\n",
    "\n",
    "$x_2 \\geq -x_1 + 0.5$\n",
    "\n",
    "$x_2 \\geq -x_1 + 1.2$\n",
    "\n",
    "each return 1 if the condition is met (note that we had a _lot_ of flexibility here; we just had to choose two lines that separated the two classes. I just chose those with slopes of -1 each, for simplicity). This may be re-cast:\n",
    "\n",
    "$x_1 + x_2 \\geq 0.5 \\rightarrow H(x_1 + x_2 - 0.5)$\n",
    "\n",
    "$x_1 + x_2 \\geq 1.2 \\rightarrow H(x_1 + x_2 - 1.2)$\n",
    "\n",
    "The simplest function to return a 1 or 0 depending on a fixed criterion, is the Heaviside step-function, $H(x)$, with the following properties:\n",
    "$H(x) = \\{ ^{1\\textrm{ for }x > 0} _{0\\textrm{ for x } \\leq 0}$\n",
    "\n",
    "A schematic allowing these two lines to interact with each other, for this comparison may look like:\n",
    "\n",
    "![Schematic of algorithm determining membership of classification regions ('sated' and 'not sated')](images/Simple_MLP_figure.png)\n",
    "\n",
    "Where the last calculation is a simple logical comparison (`and`) of the regions.\n",
    "\n",
    "This, which is really the construction of the XOR function, is the essential idea behind the most fundamental neural net: the perceptron. \n",
    "\n",
    "We have just seen that, while a trusty linear regression failed to model our meal satisfaction function, a collection of simple units that can easily interact and compare with each other, performed the task quite nicely."
   ]
  },
  {
   "cell_type": "markdown",
   "metadata": {},
   "source": [
    "## Artificial Neural Networks (ANNs)\n",
    "\n",
    "Artificial Neural Networks (ANNs; often further abbreviated to NNs) are inspired directly from our understanding of brain neurophysiology. An individual _neuron_ is the basic cell unit of our complex central nervous system. Each neuron takes inputs, in the form of electrical signals, and performs a number of simple transforms on these inputs, resulting in a simple output. These outputs are in turn fed as inputs to other neurons.\n",
    "\n",
    "Artificial neurons are simplified analogs of these biological units, taking in a limited number of signals, performing simple operations on them, before emitting a limited number of output signals. The astounding computational capabilities of this class of algorithm arise from the networks built up using these simple units."
   ]
  },
  {
   "cell_type": "markdown",
   "metadata": {},
   "source": [
    "### Anatomy of a Neural Network \n",
    "\n",
    "An ANN is composed of _neurons_ (_nodes_) and _layers_. Each node performs the atomic operations of the network, defined by _activation functions_. Groups of nodes may form a layer, a distinct structure representing a stage of the network. Each layer acts like a filter, or function. At least two layers are defined: the _input layer_ and the _output layer_. In addition, there may be one or more layer that is neither an input nor an output; these are referred to as _hidden layers_:\n",
    "\n",
    "\n",
    "\n",
    "![Achitecture of a typical Artificial Neural Network (ANN). The number of layers determine the _depth_ of the model; the number of neurons in each layer determine the _width_ of the model.](images/ANN_architecture_intro.png)\n",
    "\n",
    "The purpose of ANNs is to approximate any arbitrary function, say, $f'(x)$. Each layer can be thought of as a successive function $f_i()$ acting on the previous layers. The particular composition of layers and nodes of a neural network is known as the _net architecture_.\n",
    "\n",
    "In this framework, for the chicken-beef calculation we performed above, each linear comparison was performed within a node (neuron), after being fed inputs $x_1$ and $x_2$. The outputs were fed into the final, output, node. This architecture is a Multi-Layer Perceptron (MLP). It is a particular type of _feed-forward network_, because there are no layers that make use of feedback.\n",
    "\n",
    "The activation function we chose (fairly organically!) was the Heaviside step function, $H(x)$."
   ]
  },
  {
   "cell_type": "markdown",
   "metadata": {},
   "source": [
    "### Activation functions\n",
    "\n",
    "The purpose of an activation function is to polarize the network (_i.e._ provide directionality), as well as condition the signals propagated throughout (very often regulated to have a limited output range). The most common activation functions are:\n",
    "\n",
    " *  **Perceptron** (Heaviside): $\\sigma(z) = \\{ ^{1\\textrm{ for }z > 0} _{0\\textrm{ for z } \\leq 0}$\n",
    "\n",
    " *  **Sigmoid** (logistic): $\\sigma(z) = \\frac{1}{1 + \\exp(-z)}$\n",
    " \n",
    " * **ReLU** (Rectified Linear Unit): $\\sigma(z) = \\max{(0, z)}$\n",
    "\n",
    " *  **Softmax**: $\\sigma(z)_j = \\frac{\\exp{(z_j)}}{\\sum_{k}^{K} \\exp{(z_k)}}$\n",
    " \n",
    "Their response functions look like the following:\n",
    "\n",
    "![Response functions of three of the most popular activation functions for neurons in ANNs.](images/activation_function_comparison.png)\n",
    "\n",
    "The sigmoid (or logistic) activation function is a smoothed version of the step function, so has nicer analytic properties than the step function. However, it can be somewhat computationally expensive for large numbers of nodes and layers. The ReLU (Rectified Linear Unit) is a simpler function. Although, being piece-wise linear, it is still technically non-linear, it provides network polarity while retaining many properties of linearity which make these nice for approximating functions. ReLU-based neurons are much 'faster' to train because of their computational simplicity.\n",
    "\n",
    "The softmax activation function is an ensemble function, often used for an aggregation step. It also has nice analytic properties, regulating the output based on the ensemble mean. This often favors a 'winner-takes-all' condition."
   ]
  },
  {
   "cell_type": "markdown",
   "metadata": {},
   "source": [
    "So much for the theory. How do we code these things?"
   ]
  },
  {
   "cell_type": "markdown",
   "metadata": {},
   "source": [
    "### Introduction to Keras and Tensorflow\n",
    "\n",
    "\n",
    "**Tensorflow**\n",
    "\n",
    "TensorFlow was developed by the Google Brain team, released to the Apache foundation in late 2015. It is a symbolic, high-performance, math library with specialized and generalized math objects, particularly _tensors_, a generalization of vector arithmetic and calculus (hence the name). The mental model for TensorFlow computations is a computational graph, defined by tensors. It is designed to be seamlessly applied to a range of hardware types (including GPGPUs and a specialized ASIC, the TPU---_Tensor Processing Unit_).  \n",
    "\n",
    "**Tensorflow documentation:** https://www.tensorflow.org/\n",
    "\n",
    "---\n",
    "**Keras**\n",
    "\n",
    "Keras is a high-level API to the neural network libraries CNTK, Theano and TensorFlow. Its high level of abstraction allows rapid prototyping of neural networks, with both convolution and recurrent network architectures. Its guiding principles are user-friendliness, modularity and to be easily extendible. Because it's written in Python, configuration and extension of functionality are relatively seamless within the Python eco-system. \n",
    "\n",
    "Keras is Greek for 'horn,' a reference to the vision-inducing spirits in the _Odyssey_.\n",
    "\n",
    "**Keras documentation:** https://keras.io/"
   ]
  },
  {
   "cell_type": "markdown",
   "metadata": {},
   "source": [
    "### Tensors and TensorFlow\n",
    "\n",
    "The fundamental unit of computation within TensorFlow is the _tensor_. Tensors are generalizations of vector arithmetic and calculus, allowing linear operations on higher rank objects. These are used to partially define a computation, in the form of a data-flow graph, that will, when executed, produce an output value. TensorFlow constructs a graph based on tensor objects (`tf.Tensor`). This graph is then executed within a TensorFlow session (`tf.Session()`) instance.\n",
    "\n",
    "We can simply generate a tensor object using `tf.Variable`:"
   ]
  },
  {
   "cell_type": "code",
   "execution_count": 22,
   "metadata": {},
   "outputs": [],
   "source": [
    "odd_nums = tf.Variable([1, 3, 5, 7, 9, 11])  # Rank 1 tensor is a vector"
   ]
  },
  {
   "cell_type": "markdown",
   "metadata": {},
   "source": [
    "It has the usual `.dtype` and `.shape` attributes: "
   ]
  },
  {
   "cell_type": "code",
   "execution_count": 23,
   "metadata": {},
   "outputs": [
    {
     "data": {
      "text/plain": [
       "tf.int32_ref"
      ]
     },
     "execution_count": 23,
     "metadata": {},
     "output_type": "execute_result"
    },
    {
     "data": {
      "text/plain": [
       "TensorShape([Dimension(6)])"
      ]
     },
     "execution_count": 23,
     "metadata": {},
     "output_type": "execute_result"
    }
   ],
   "source": [
    "odd_nums.dtype\n",
    "odd_nums.shape"
   ]
  },
  {
   "cell_type": "code",
   "execution_count": 24,
   "metadata": {},
   "outputs": [],
   "source": [
    "weird_hypercube = tf.Variable([ [ [43], [121.234] ], [ [987], [2134] ] ], dtype=tf.float64)"
   ]
  },
  {
   "cell_type": "markdown",
   "metadata": {},
   "source": [
    "However, as mentioned, tensors in TensorFlow are _partially_ computed graph objects:"
   ]
  },
  {
   "cell_type": "code",
   "execution_count": 25,
   "metadata": {},
   "outputs": [
    {
     "data": {
      "text/plain": [
       "<tf.Tensor 'Rank_2:0' shape=() dtype=int32>"
      ]
     },
     "execution_count": 25,
     "metadata": {},
     "output_type": "execute_result"
    }
   ],
   "source": [
    "rank1 = tf.rank(odd_nums)\n",
    "rank1"
   ]
  },
  {
   "cell_type": "code",
   "execution_count": 26,
   "metadata": {},
   "outputs": [
    {
     "data": {
      "text/plain": [
       "<tf.Tensor 'Rank_3:0' shape=() dtype=int32>"
      ]
     },
     "execution_count": 26,
     "metadata": {},
     "output_type": "execute_result"
    }
   ],
   "source": [
    "rank2 = tf.rank(weird_hypercube)\n",
    "rank2"
   ]
  },
  {
   "cell_type": "code",
   "execution_count": 27,
   "metadata": {},
   "outputs": [
    {
     "data": {
      "text/plain": [
       "<tf.Variable 'Variable_3:0' shape=(2, 2, 1) dtype=float64_ref>"
      ]
     },
     "execution_count": 27,
     "metadata": {},
     "output_type": "execute_result"
    }
   ],
   "source": [
    "weird_hypercube"
   ]
  },
  {
   "cell_type": "markdown",
   "metadata": {},
   "source": [
    "Operations are not run until we have specified that our computation graph is complete. Note that the `tf.rank()` operations did not return an actual rank value. To execute operations on the tensors we just produced, we require a `tf.Session()` connection:"
   ]
  },
  {
   "cell_type": "code",
   "execution_count": 28,
   "metadata": {},
   "outputs": [
    {
     "data": {
      "text/plain": [
       "1"
      ]
     },
     "execution_count": 28,
     "metadata": {},
     "output_type": "execute_result"
    },
    {
     "data": {
      "text/plain": [
       "3"
      ]
     },
     "execution_count": 28,
     "metadata": {},
     "output_type": "execute_result"
    }
   ],
   "source": [
    "with tf.Session() as sess:\n",
    "    sess.run(rank1)\n",
    "    sess.run(rank2)"
   ]
  },
  {
   "cell_type": "markdown",
   "metadata": {},
   "source": [
    "Defining the details of your computation this way, and generating the necessary graphs and sessions, requires quite some thought and a lot of boiler-plate code (of which is not particularly Pythonic!). \n",
    "\n",
    "There are so many commonly used operations and architectures, that a higher level API would be very useful! This is where Keras comes in."
   ]
  },
  {
   "cell_type": "markdown",
   "metadata": {},
   "source": [
    "## Using Keras and Tensorflow to Solve the Chicken-or-Beef Problem\n",
    "\n",
    "As solving programming puzzles go, this is like smashing a walnut with a hydraulic press:\n",
    "\n",
    "\n",
    "![Solving the chicken-or-beef problem with an ANN is like smashing a walnut with a hydraulic press -- or, in this case, a Bonsack machine. Original machine image in public domain; U.S. pat. #238,640](images/Walnut_press_labelled_smaller2.jpg)\n",
    "\n",
    "![Much smaller text in description to test image](images/good-good-let-the-power-of-pandas-flow-through-you.jpg)\n",
    "\n",
    "In fact, you'll see below that this problem is almost _too_ simple for our ANN coding framework (this occurs surprisingly often 'in the wild' at the moment too!). You will, however, hopefully see that setting up very sophisticated network architectures is made very easy using Keras. However, we’re already attached to this airplane meal puzzle, so we’ll see it through to its nutritious end.\n",
    "\n",
    "We wish to construct a binary classifier (binary because we only have two outputs: ‘sated’ and ‘not sated’) based on the conceptual MLP model we considered above. A tabular expression of our puzzle looks like:\n",
    "\n",
    "| Chicken | Beef | Sated |\n",
    "|---------|------|-------|\n",
    "| No | No | No |\n",
    "| Yes | No | Yes |\n",
    "| No | Yes | Yes |\n",
    "| Yes | Yes | No |\n",
    "\n",
    "We can encode this easily enough in Python. We’ll take our inputs, x, as a matrix, and the desired outcome, y, as a vector. In the Python eco-system, these are represented as Numpy arrays:"
   ]
  },
  {
   "cell_type": "code",
   "execution_count": 5,
   "metadata": {},
   "outputs": [],
   "source": [
    "x_unit = np.array([[0, 0], [0, 1], [1, 0], [1, 1]])\n",
    "y_unit = np.array([0, 1, 1, 0])\n",
    "x = x_unit\n",
    "y = y_unit\n",
    "\n",
    "for __ in range(6000):\n",
    "    x = np.vstack([x, x_unit])\n",
    "    y = np.hstack([y, y_unit])"
   ]
  },
  {
   "cell_type": "markdown",
   "metadata": {},
   "source": [
    "Here, we have replicated the input/output pairs 6,000 times. This is an unfortunate side-effect of the simplicity of the problem at hand. As I mentioned above, it's almost _too_ simple for the usual use-cases of this framework. \n",
    "\n",
    "How will we know our model is performing accurately, and we’re not sitting in a circle of yes-attendants, telling us our predictions are correct? We need to hold out some portion of the data (a validation data-set) to test our model against:"
   ]
  },
  {
   "cell_type": "markdown",
   "metadata": {},
   "source": [
    "Now we will split the data into training and test sets:"
   ]
  },
  {
   "cell_type": "code",
   "execution_count": 6,
   "metadata": {},
   "outputs": [],
   "source": [
    "data_len = x.shape[0]\n",
    "split_Idx = np.random.choice(range(data_len), int(0.75*data_len), replace=False)\n",
    "\n",
    "x_train = x[split_Idx]\n",
    "x_test = x[~np.in1d(range(data_len), split_Idx)]  # Note the bit-wise logical negation\n",
    "y_train = y[split_Idx]\n",
    "y_test = y[~np.in1d(range(data_len), split_Idx)]"
   ]
  },
  {
   "cell_type": "code",
   "execution_count": 7,
   "metadata": {},
   "outputs": [
    {
     "data": {
      "text/plain": [
       "(18003, 2)"
      ]
     },
     "execution_count": 7,
     "metadata": {},
     "output_type": "execute_result"
    },
    {
     "data": {
      "text/plain": [
       "(18003,)"
      ]
     },
     "execution_count": 7,
     "metadata": {},
     "output_type": "execute_result"
    },
    {
     "data": {
      "text/plain": [
       "(6001, 2)"
      ]
     },
     "execution_count": 7,
     "metadata": {},
     "output_type": "execute_result"
    },
    {
     "data": {
      "text/plain": [
       "(6001,)"
      ]
     },
     "execution_count": 7,
     "metadata": {},
     "output_type": "execute_result"
    }
   ],
   "source": [
    "x_train.shape\n",
    "y_train.shape\n",
    "x_test.shape\n",
    "y_test.shape"
   ]
  },
  {
   "cell_type": "markdown",
   "metadata": {},
   "source": [
    "Note that this is very simply done if we added an import from scikit-learn:"
   ]
  },
  {
   "cell_type": "code",
   "execution_count": 8,
   "metadata": {},
   "outputs": [],
   "source": [
    "# Uncomment below if you already have sklearn installed\n",
    "# from sklearn.model_selection import train_test_split \n",
    "# x_train, x_test, y_train, y_test = train_test_split(x, y, test_size=0.25)"
   ]
  },
  {
   "cell_type": "code",
   "execution_count": 15,
   "metadata": {},
   "outputs": [],
   "source": [
    "# First, set some constants for re-use\n",
    "batch_size = 128 \n",
    "num_classes = 2  # Binary classifier\n",
    "num_epochs = 512  # Number of rounds of training "
   ]
  },
  {
   "cell_type": "code",
   "execution_count": 16,
   "metadata": {},
   "outputs": [],
   "source": [
    "# convert class vectors to binary class matrices\n",
    "y_train = keras.utils.to_categorical(y_train, num_classes)\n",
    "y_test = keras.utils.to_categorical(y_test, num_classes)"
   ]
  },
  {
   "cell_type": "code",
   "execution_count": 17,
   "metadata": {},
   "outputs": [],
   "source": [
    "## Some additional imports\n",
    "from tensorflow.keras.models import Sequential\n",
    "from tensorflow.keras.layers import Dense, Dropout\n",
    "from tensorflow.keras.optimizers import RMSprop"
   ]
  },
  {
   "cell_type": "markdown",
   "metadata": {},
   "source": [
    "Keras has two types of model: `Sequential` and the functional `Model`. \n",
    "Each model type shares the following attributes:\n",
    "\n",
    "* `.layers`: the layers of the model\n",
    "* `.inputs`: the input tensors of the model\n",
    "* `.outputs`: the output tensors\n",
    "\n",
    "They also have a `.summary()` method, giving a summary of the model."
   ]
  },
  {
   "cell_type": "markdown",
   "metadata": {},
   "source": [
    "Time to call our first model! Instantiate an instance of the `Sequential()` model class:"
   ]
  },
  {
   "cell_type": "code",
   "execution_count": 18,
   "metadata": {},
   "outputs": [],
   "source": [
    "model0 = Sequential()"
   ]
  },
  {
   "cell_type": "markdown",
   "metadata": {},
   "source": [
    "Define the initial (input) layer:"
   ]
  },
  {
   "cell_type": "code",
   "execution_count": 19,
   "metadata": {},
   "outputs": [],
   "source": [
    "model0.add(Dense(64, activation='relu', input_shape=(2,)))"
   ]
  },
  {
   "cell_type": "markdown",
   "metadata": {},
   "source": [
    "Define the final (output) layer:                                                                                                                                                        "
   ]
  },
  {
   "cell_type": "code",
   "execution_count": 20,
   "metadata": {},
   "outputs": [],
   "source": [
    "model0.add(Dense(num_classes, activation='sigmoid'))"
   ]
  },
  {
   "cell_type": "code",
   "execution_count": 21,
   "metadata": {},
   "outputs": [
    {
     "name": "stdout",
     "output_type": "stream",
     "text": [
      "_________________________________________________________________\n",
      "Layer (type)                 Output Shape              Param #   \n",
      "=================================================================\n",
      "dense (Dense)                (None, 64)                192       \n",
      "_________________________________________________________________\n",
      "dense_1 (Dense)              (None, 2)                 130       \n",
      "=================================================================\n",
      "Total params: 322\n",
      "Trainable params: 322\n",
      "Non-trainable params: 0\n",
      "_________________________________________________________________\n"
     ]
    }
   ],
   "source": [
    "model0.summary()"
   ]
  },
  {
   "cell_type": "markdown",
   "metadata": {},
   "source": [
    "We have thus defined our model's architecture. We must now define _how_ the model determines it has found a suitable approximation."
   ]
  },
  {
   "cell_type": "markdown",
   "metadata": {},
   "source": [
    "### Cost and loss functions\n",
    "\n",
    "The important objective functions for ANNs are referred to as _cost_ or _loss_ functions. These functional measures of error are the important metrics with which we determine the success of our algorithm. The goal of machine learning algorithms is to optimize such a functions. The former term (_cost function_) is often reserved for the entire training set, in which case the _loss function_ is defined as the loss per epoch. \n",
    "\n",
    "We are already familiar with one of the most common cost functions, namely the Mean Squared Error (MSE). This is the routine used to obtain an Ordinary Least Squares (OLS) linear regression fit. Explicitly, we minimize the function:\n",
    "\n",
    "$J(x) = \\frac{1}{2n}\\sum{}^{}_{j} [f'_j(x) - f_j(x)]^2$\n",
    "\n",
    "Where $f'(x)$ denotes the function to be approximated and $f(x)$ represents the functional form used by the algorithm (here, the activation function used in each layer). Here, the sum is taken over each node, labeled with $j$. \n",
    "\n",
    "Another cost function, popularly used for binary classification, is the _cross-entropy_ (or Bernoulli negative log-likelihood or Binary Cross-Entropy):\n",
    "\n",
    "$J(x) = -\\sum{}_{j}[f(x)\\log_e{(f'(x))} + (1 - f(x))\\log_e{(1 - f'(x))}]$\n",
    "\n",
    "One problem with using the MSE cost function is that it can be very slow to learn with large errors for a sigmoid activation function. This is not the case for cross-entropy, hence it is widely used.\n",
    "\n",
    "There are a number of other cost functions, such as the Mean Absolute Error (MAE):\n",
    "\n",
    "$J(x) = \\frac{1}{n}\\sum{}^{}_{j} |f'_j(x) - f_j(x)|$"
   ]
  },
  {
   "cell_type": "markdown",
   "metadata": {},
   "source": [
    "### Optimizers\n",
    "\n",
    "In practice, we do not usually have access to the analytic form of the cost or loss functions, and hence do not have an explicit expression for the optimal parameter values. We have to then rely on optimization schemes. Probably the best known are the Newton-Raphson family of optimization functions, which 'descend' to the optimal point, based on the gradient (this is known as _gradient descent_). \n",
    "\n",
    "Specifically, perhaps the most widely used optimizers for ANNs are based on _Stochastic Gradient Descent_ (SGD). Consider that the goal here is to minimize the cost function, $J(x)$. In other words, where $\\nabla J(x) = 0$ \n",
    "\n",
    "(Note that here we have adopted the gradient operator,$\\nabla$ ('nabla'); although we have written the above as a function of a single variable $\\nabla f(x) := \\partial f(x)/\\partial x$, $\\nabla$ is the derivative across all variables in the space.)  \n",
    "\n",
    "As an iterative process, we update the weights $w^{(r)}$, beginning from the initial $w^{(0)}$. We wish to find $\\nabla J(x)$; this may be well approximated by taking a random sample of training inputs and computing the (discrete) gradient by taking a group of random nodes (a _mini-batch_), $j \\in m$. In other words, we assume $\\nabla J(x) \\approx \\nabla J_m(x)$. \n",
    "\n",
    "The $r$th iteration of a weight is hence updated according to: $w^{(r)} = w^{(r-1)} - \\eta\\nabla J_m(w)$. The constant parameter, $\\eta > 0 $, is known as the _Learning Rate_, as it determines the rate at which the weights are updated.\n",
    "\n",
    "To help with numerical stability, the concept of _momentum_ has been introduced. This reduces oscillations, and overshoot of the global minimum, by introducing a term proportional to the incremental change in rate. Another useful parameter within enhancements to SGD optimization is the _decay_ parameter. This reduces the learning rate if the loss does not decrease after a set number of epochs. \n",
    "\n",
    "Even more sophisticated variants of SGD involve the automatic update of learning rates depending on how important a particular feature parameter is (Adagrad, Adadelta). We will use here the optimizer recommended as a great all-purpose default, the `RMSProp()` variant of Adadelta. In effect, this means that we do not have to attempt to tune the learning rate; this is done so automatically. \n",
    "\n",
    "For more details on variants of optimizers used in ANNs, I recommend Sebastian Ruder's _An overview of gradient descent optimization algorithms_:\n",
    " \n",
    "http://ruder.io/optimizing-gradient-descent/index.html"
   ]
  },
  {
   "cell_type": "code",
   "execution_count": 22,
   "metadata": {},
   "outputs": [],
   "source": [
    "# An example of calling a Stochastic Gradient Descent (SGD) optimizer\n",
    "# keras.optimizers.SGD(lr=0.01, momentum=0.0, decay=0.0, nesterov=False)"
   ]
  },
  {
   "cell_type": "markdown",
   "metadata": {},
   "source": [
    "### Tracking model performance: metrics\n",
    "\n",
    "It is vital to quantify how our models perform. Keras makes it simple to track a number of off-the-shelf loss functions, that are not used to update or train the model, but may elucidate its behavior. This may range from the simple `accuracy` (the mean difference between prediction and actual 'ground truth' values), mean absolute error (`mae`) or `categorical_accuracy`. "
   ]
  },
  {
   "cell_type": "markdown",
   "metadata": {},
   "source": [
    "Within Keras, it is a simple matter to define the loss and optimizer functions, and performance metric to track for our MLP model. These are specified at the `compile` stage of the computation: "
   ]
  },
  {
   "cell_type": "code",
   "execution_count": 23,
   "metadata": {},
   "outputs": [],
   "source": [
    "model0.compile(loss='categorical_crossentropy',\n",
    "              optimizer=RMSprop(),\n",
    "              metrics=['accuracy'])"
   ]
  },
  {
   "cell_type": "markdown",
   "metadata": {},
   "source": [
    "We can now train the model:"
   ]
  },
  {
   "cell_type": "code",
   "execution_count": 24,
   "metadata": {},
   "outputs": [],
   "source": [
    "history0 = model0.fit(x_train, y_train,\n",
    "                    batch_size=batch_size,\n",
    "                    epochs=num_epochs,\n",
    "                    verbose=0,\n",
    "                    validation_data=(x_test, y_test))"
   ]
  },
  {
   "cell_type": "markdown",
   "metadata": {},
   "source": [
    "Evaluate this model:"
   ]
  },
  {
   "cell_type": "code",
   "execution_count": 25,
   "metadata": {},
   "outputs": [
    {
     "name": "stdout",
     "output_type": "stream",
     "text": [
      "Test loss: 1.1920928955078125e-07,      Test accuracy: 1.0\n"
     ]
    }
   ],
   "source": [
    "score0 = model0.evaluate(x_test, y_test, verbose=0)\n",
    "print('Test loss: {0},      Test accuracy: {1}'.format(score0[0], score0[1]))"
   ]
  },
  {
   "cell_type": "markdown",
   "metadata": {},
   "source": [
    "We have trained a model on an arbitrary function, with an apparent accuracy of 100%!\n",
    "\n",
    "However, this should not come as a huge surprise. There is no noise in the data and it is a relatively simple function to emulate. But it's still kind of cool -- we didn't have to spend a lot of time hand-crafting weights _etc._ "
   ]
  },
  {
   "cell_type": "markdown",
   "metadata": {},
   "source": [
    "---\n",
    "## Side Note: Call-back Functions\n",
    "\n",
    "If you want to interrogate some internal details of your model, you may require the use of a _call-back function_. This is a function triggered by some specified criteria.\n",
    "\n",
    "In the following case, we wanted to look at how the weights of the model evolved with each epoch:"
   ]
  },
  {
   "cell_type": "code",
   "execution_count": 79,
   "metadata": {},
   "outputs": [
    {
     "name": "stdout",
     "output_type": "stream",
     "text": [
      "_________________________________________________________________\n",
      "Layer (type)                 Output Shape              Param #   \n",
      "=================================================================\n",
      "dense_14 (Dense)             (None, 2)                 6         \n",
      "_________________________________________________________________\n",
      "dense_15 (Dense)             (None, 2)                 6         \n",
      "=================================================================\n",
      "Total params: 12\n",
      "Trainable params: 12\n",
      "Non-trainable params: 0\n",
      "_________________________________________________________________\n",
      "Test loss: 1.1920928955078125e-07,      Test accuracy: 1.0\n"
     ]
    }
   ],
   "source": [
    "from tensorflow.keras.callbacks import LambdaCallback\n",
    "\n",
    "input_size = 2 \n",
    "model100 = Sequential()\n",
    "model100.add(Dense(input_size, activation='relu', input_shape=(2,), use_bias=True))\n",
    "model100.add(Dense(num_classes, activation='sigmoid'))\n",
    "model100.summary()\n",
    "\n",
    "# Create a callback function to populate a dictionary of weights\n",
    "weights = {}\n",
    "store_weights = LambdaCallback(on_epoch_end=lambda batch,\n",
    "                               logs: weights.__setitem__(batch,\n",
    "                                                       model100.layers[0].get_weights()) )\n",
    "\n",
    "model100.compile(loss='categorical_crossentropy',\n",
    "              optimizer=RMSprop(),\n",
    "              metrics=['accuracy'])\n",
    "\n",
    "history100 = model100.fit(x_train, y_train,\n",
    "                    batch_size=batch_size,\n",
    "                    epochs=num_epochs,\n",
    "                    verbose=0,\n",
    "                    validation_data=(x_test, y_test),\n",
    "                         callbacks = [store_weights])\n",
    "\n",
    "score100 = model100.evaluate(x_test, y_test, verbose=0)\n",
    "print('Test loss: {0},      Test accuracy: {1}'.format(score100[0], score100[1]))"
   ]
  },
  {
   "cell_type": "code",
   "execution_count": 80,
   "metadata": {},
   "outputs": [],
   "source": [
    "weights_names = []\n",
    "\n",
    "for Idx in range(3):\n",
    "    for Jdx in range(input_size):\n",
    "        weights_names.append(\"node\" + str(Jdx) + \"_\" + str(Idx))"
   ]
  },
  {
   "cell_type": "code",
   "execution_count": 81,
   "metadata": {},
   "outputs": [],
   "source": [
    "for Idx in weights:\n",
    "    weights[Idx] = np.concatenate(\n",
    "        (weights[Idx][0][0], weights[Idx][0][1], weights[Idx][1]), axis=0)"
   ]
  },
  {
   "cell_type": "code",
   "execution_count": 82,
   "metadata": {},
   "outputs": [],
   "source": [
    "weights_df = pd.DataFrame(weights).T\n",
    "weights_df.columns = weights_names"
   ]
  },
  {
   "cell_type": "code",
   "execution_count": 83,
   "metadata": {},
   "outputs": [
    {
     "data": {
      "text/plain": [
       "(512, 6)"
      ]
     },
     "execution_count": 83,
     "metadata": {},
     "output_type": "execute_result"
    },
    {
     "data": {
      "text/html": [
       "<div>\n",
       "<style scoped>\n",
       "    .dataframe tbody tr th:only-of-type {\n",
       "        vertical-align: middle;\n",
       "    }\n",
       "\n",
       "    .dataframe tbody tr th {\n",
       "        vertical-align: top;\n",
       "    }\n",
       "\n",
       "    .dataframe thead th {\n",
       "        text-align: right;\n",
       "    }\n",
       "</style>\n",
       "<table border=\"1\" class=\"dataframe\">\n",
       "  <thead>\n",
       "    <tr style=\"text-align: right;\">\n",
       "      <th></th>\n",
       "      <th>node0_0</th>\n",
       "      <th>node1_0</th>\n",
       "      <th>node0_1</th>\n",
       "      <th>node1_1</th>\n",
       "      <th>node0_2</th>\n",
       "      <th>node1_2</th>\n",
       "    </tr>\n",
       "  </thead>\n",
       "  <tbody>\n",
       "    <tr>\n",
       "      <th>0</th>\n",
       "      <td>-0.378349</td>\n",
       "      <td>1.026016</td>\n",
       "      <td>0.378585</td>\n",
       "      <td>-0.076626</td>\n",
       "      <td>0.000972</td>\n",
       "      <td>-0.042507</td>\n",
       "    </tr>\n",
       "    <tr>\n",
       "      <th>1</th>\n",
       "      <td>-0.468927</td>\n",
       "      <td>0.967750</td>\n",
       "      <td>0.468637</td>\n",
       "      <td>-0.216440</td>\n",
       "      <td>-0.000133</td>\n",
       "      <td>-0.100772</td>\n",
       "    </tr>\n",
       "    <tr>\n",
       "      <th>2</th>\n",
       "      <td>-0.558707</td>\n",
       "      <td>0.918462</td>\n",
       "      <td>0.557364</td>\n",
       "      <td>-0.359163</td>\n",
       "      <td>-0.000119</td>\n",
       "      <td>-0.150060</td>\n",
       "    </tr>\n",
       "    <tr>\n",
       "      <th>3</th>\n",
       "      <td>-0.642713</td>\n",
       "      <td>0.868215</td>\n",
       "      <td>0.642518</td>\n",
       "      <td>-0.501522</td>\n",
       "      <td>-0.000222</td>\n",
       "      <td>-0.200307</td>\n",
       "    </tr>\n",
       "    <tr>\n",
       "      <th>4</th>\n",
       "      <td>-0.723031</td>\n",
       "      <td>0.854663</td>\n",
       "      <td>0.723476</td>\n",
       "      <td>-0.639140</td>\n",
       "      <td>0.000695</td>\n",
       "      <td>-0.213858</td>\n",
       "    </tr>\n",
       "  </tbody>\n",
       "</table>\n",
       "</div>"
      ],
      "text/plain": [
       "    node0_0   node1_0   node0_1   node1_1   node0_2   node1_2\n",
       "0 -0.378349  1.026016  0.378585 -0.076626  0.000972 -0.042507\n",
       "1 -0.468927  0.967750  0.468637 -0.216440 -0.000133 -0.100772\n",
       "2 -0.558707  0.918462  0.557364 -0.359163 -0.000119 -0.150060\n",
       "3 -0.642713  0.868215  0.642518 -0.501522 -0.000222 -0.200307\n",
       "4 -0.723031  0.854663  0.723476 -0.639140  0.000695 -0.213858"
      ]
     },
     "execution_count": 83,
     "metadata": {},
     "output_type": "execute_result"
    },
    {
     "data": {
      "text/html": [
       "<div>\n",
       "<style scoped>\n",
       "    .dataframe tbody tr th:only-of-type {\n",
       "        vertical-align: middle;\n",
       "    }\n",
       "\n",
       "    .dataframe tbody tr th {\n",
       "        vertical-align: top;\n",
       "    }\n",
       "\n",
       "    .dataframe thead th {\n",
       "        text-align: right;\n",
       "    }\n",
       "</style>\n",
       "<table border=\"1\" class=\"dataframe\">\n",
       "  <thead>\n",
       "    <tr style=\"text-align: right;\">\n",
       "      <th></th>\n",
       "      <th>node0_0</th>\n",
       "      <th>node1_0</th>\n",
       "      <th>node0_1</th>\n",
       "      <th>node1_1</th>\n",
       "      <th>node0_2</th>\n",
       "      <th>node1_2</th>\n",
       "    </tr>\n",
       "  </thead>\n",
       "  <tbody>\n",
       "    <tr>\n",
       "      <th>507</th>\n",
       "      <td>-2.389724</td>\n",
       "      <td>2.700161</td>\n",
       "      <td>2.38846</td>\n",
       "      <td>-2.70169</td>\n",
       "      <td>-0.000339</td>\n",
       "      <td>-0.000559</td>\n",
       "    </tr>\n",
       "    <tr>\n",
       "      <th>508</th>\n",
       "      <td>-2.389724</td>\n",
       "      <td>2.700161</td>\n",
       "      <td>2.38846</td>\n",
       "      <td>-2.70169</td>\n",
       "      <td>-0.000339</td>\n",
       "      <td>-0.000559</td>\n",
       "    </tr>\n",
       "    <tr>\n",
       "      <th>509</th>\n",
       "      <td>-2.389724</td>\n",
       "      <td>2.700161</td>\n",
       "      <td>2.38846</td>\n",
       "      <td>-2.70169</td>\n",
       "      <td>-0.000339</td>\n",
       "      <td>-0.000559</td>\n",
       "    </tr>\n",
       "    <tr>\n",
       "      <th>510</th>\n",
       "      <td>-2.389724</td>\n",
       "      <td>2.700161</td>\n",
       "      <td>2.38846</td>\n",
       "      <td>-2.70169</td>\n",
       "      <td>-0.000339</td>\n",
       "      <td>-0.000559</td>\n",
       "    </tr>\n",
       "    <tr>\n",
       "      <th>511</th>\n",
       "      <td>-2.389724</td>\n",
       "      <td>2.700161</td>\n",
       "      <td>2.38846</td>\n",
       "      <td>-2.70169</td>\n",
       "      <td>-0.000339</td>\n",
       "      <td>-0.000559</td>\n",
       "    </tr>\n",
       "  </tbody>\n",
       "</table>\n",
       "</div>"
      ],
      "text/plain": [
       "      node0_0   node1_0  node0_1  node1_1   node0_2   node1_2\n",
       "507 -2.389724  2.700161  2.38846 -2.70169 -0.000339 -0.000559\n",
       "508 -2.389724  2.700161  2.38846 -2.70169 -0.000339 -0.000559\n",
       "509 -2.389724  2.700161  2.38846 -2.70169 -0.000339 -0.000559\n",
       "510 -2.389724  2.700161  2.38846 -2.70169 -0.000339 -0.000559\n",
       "511 -2.389724  2.700161  2.38846 -2.70169 -0.000339 -0.000559"
      ]
     },
     "execution_count": 83,
     "metadata": {},
     "output_type": "execute_result"
    }
   ],
   "source": [
    "weights_df.shape\n",
    "weights_df.head()\n",
    "weights_df.tail()"
   ]
  },
  {
   "cell_type": "code",
   "execution_count": 84,
   "metadata": {},
   "outputs": [
    {
     "data": {
      "text/plain": [
       "<matplotlib.axes._subplots.AxesSubplot at 0x7f6fe3cb84a8>"
      ]
     },
     "execution_count": 84,
     "metadata": {},
     "output_type": "execute_result"
    },
    {
     "data": {
      "image/png": "[encoded data removed]",
      "text/plain": [
       "<Figure size 432x288 with 1 Axes>"
      ]
     },
     "metadata": {
      "needs_background": "light"
     },
     "output_type": "display_data"
    }
   ],
   "source": [
    "weights_df.filter(regex=\"node[0-3]_0\").plot()"
   ]
  },
  {
   "cell_type": "code",
   "execution_count": 85,
   "metadata": {
    "scrolled": true
   },
   "outputs": [
    {
     "data": {
      "text/plain": [
       "<matplotlib.axes._subplots.AxesSubplot at 0x7f6fe25d7a58>"
      ]
     },
     "execution_count": 85,
     "metadata": {},
     "output_type": "execute_result"
    },
    {
     "data": {
      "image/png": "[encoded data removed]",
      "text/plain": [
       "<Figure size 432x288 with 1 Axes>"
      ]
     },
     "metadata": {
      "needs_background": "light"
     },
     "output_type": "display_data"
    }
   ],
   "source": [
    "weights_df.filter(regex=\"node[0-3]_1\").plot()"
   ]
  },
  {
   "cell_type": "code",
   "execution_count": 86,
   "metadata": {
    "scrolled": true
   },
   "outputs": [
    {
     "data": {
      "text/plain": [
       "<matplotlib.axes._subplots.AxesSubplot at 0x7f6fe25af320>"
      ]
     },
     "execution_count": 86,
     "metadata": {},
     "output_type": "execute_result"
    },
    {
     "data": {
      "image/png": "[encoded data removed]",
      "text/plain": [
       "<Figure size 432x288 with 1 Axes>"
      ]
     },
     "metadata": {
      "needs_background": "light"
     },
     "output_type": "display_data"
    }
   ],
   "source": [
    "weights_df.filter(regex=\"node[0-3]_2\").plot()"
   ]
  },
  {
   "cell_type": "markdown",
   "metadata": {},
   "source": [
    "---"
   ]
  },
  {
   "cell_type": "markdown",
   "metadata": {},
   "source": [
    "## Adding hidden layers"
   ]
  },
  {
   "cell_type": "markdown",
   "metadata": {},
   "source": [
    "We may add a hidden layer by simply repeating most of the initial part:"
   ]
  },
  {
   "cell_type": "code",
   "execution_count": 49,
   "metadata": {},
   "outputs": [],
   "source": [
    "model1 = Sequential()\n",
    "\n",
    "# 1st (Input) layer\n",
    "model1.add(Dense(input_size, activation='relu', input_shape=(2,)))"
   ]
  },
  {
   "cell_type": "markdown",
   "metadata": {},
   "source": [
    "Add the 2nd (hidden) layer. This is an internalization of features that are not seen externally to the model:"
   ]
  },
  {
   "cell_type": "code",
   "execution_count": 50,
   "metadata": {},
   "outputs": [],
   "source": [
    "model1.add(Dense(64, activation='relu'))"
   ]
  },
  {
   "cell_type": "markdown",
   "metadata": {},
   "source": [
    "And retain the remainder (the output layer):"
   ]
  },
  {
   "cell_type": "code",
   "execution_count": 51,
   "metadata": {},
   "outputs": [
    {
     "name": "stdout",
     "output_type": "stream",
     "text": [
      "_________________________________________________________________\n",
      "Layer (type)                 Output Shape              Param #   \n",
      "=================================================================\n",
      "dense_5 (Dense)              (None, 2)                 6         \n",
      "_________________________________________________________________\n",
      "dense_6 (Dense)              (None, 64)                192       \n",
      "_________________________________________________________________\n",
      "dense_7 (Dense)              (None, 2)                 130       \n",
      "=================================================================\n",
      "Total params: 328\n",
      "Trainable params: 328\n",
      "Non-trainable params: 0\n",
      "_________________________________________________________________\n",
      "Test loss: 1.1920928955078125e-07,      Test accuracy: 1.0\n"
     ]
    }
   ],
   "source": [
    "# 3rd (Output) layer\n",
    "model1.add(Dense(num_classes, activation='softmax'))\n",
    "\n",
    "model1.summary()\n",
    "\n",
    "model1.compile(loss='categorical_crossentropy',\n",
    "              optimizer=RMSprop(),\n",
    "              metrics=['accuracy'])\n",
    "\n",
    "history1 = model1.fit(x_train, y_train,\n",
    "                    batch_size=batch_size,\n",
    "                    epochs=128,\n",
    "                    verbose=0,\n",
    "                    validation_data=(x_test, y_test))\n",
    "\n",
    "score1 = model1.evaluate(x_test, y_test, verbose=0)\n",
    "\n",
    "print('Test loss: {0},      Test accuracy: {1}'.format(score1[0], score1[1]))"
   ]
  },
  {
   "cell_type": "markdown",
   "metadata": {},
   "source": [
    "We can see that adding a layer decreased the validation (test) loss dramatically, and improved the accuracy.\n",
    "\n",
    "Adding layers increases the network _depth_. As the number of hidden layers increase, the network becomes deeper; this is what is referred to as _Deep Learning_."
   ]
  },
  {
   "cell_type": "markdown",
   "metadata": {},
   "source": [
    "### Network dropout\n",
    "\n",
    "Overfitting is an ever-present issue with machine learning models. One means of reducing overfitting is to induce _network dropout_. This involves selecting a subset of the model inputs at random during each training phase. This is simply done in keras, setting the `rate` parameter:"
   ]
  },
  {
   "cell_type": "code",
   "execution_count": null,
   "metadata": {},
   "outputs": [],
   "source": [
    "# keras.layers.Dropout(0.2)  # Induces a 20% drop-out rate"
   ]
  },
  {
   "cell_type": "markdown",
   "metadata": {},
   "source": [
    "We can add drop-out to the first two layers of our MLP:"
   ]
  },
  {
   "cell_type": "code",
   "execution_count": 52,
   "metadata": {},
   "outputs": [
    {
     "name": "stdout",
     "output_type": "stream",
     "text": [
      "_________________________________________________________________\n",
      "Layer (type)                 Output Shape              Param #   \n",
      "=================================================================\n",
      "dense_8 (Dense)              (None, 2)                 6         \n",
      "_________________________________________________________________\n",
      "dropout (Dropout)            (None, 2)                 0         \n",
      "_________________________________________________________________\n",
      "dense_9 (Dense)              (None, 64)                192       \n",
      "_________________________________________________________________\n",
      "dropout_1 (Dropout)          (None, 64)                0         \n",
      "_________________________________________________________________\n",
      "dense_10 (Dense)             (None, 2)                 130       \n",
      "=================================================================\n",
      "Total params: 328\n",
      "Trainable params: 328\n",
      "Non-trainable params: 0\n",
      "_________________________________________________________________\n",
      "Test loss: 0.04022257467162269,      Test accuracy: 1.0\n"
     ]
    }
   ],
   "source": [
    "model2 = Sequential()\n",
    "# 1st (Input) layer\n",
    "model2.add(Dense(input_size, activation='relu', input_shape=(2,)))\n",
    "model2.add(Dropout(0.1))\n",
    "\n",
    "# 2nd (Hidden) layer\n",
    "model2.add(Dense(64, activation='relu'))\n",
    "model2.add(Dropout(0.1))\n",
    "\n",
    "# 3rd (Output) layer\n",
    "model2.add(Dense(num_classes, activation='softmax'))\n",
    "\n",
    "model2.summary()\n",
    "\n",
    "model2.compile(loss='categorical_crossentropy',\n",
    "              optimizer=RMSprop(),\n",
    "              metrics=['accuracy'])\n",
    "\n",
    "history2 = model2.fit(x_train, y_train,\n",
    "                    batch_size=batch_size,\n",
    "                    epochs=128,\n",
    "                    verbose=0,\n",
    "                    validation_data=(x_test, y_test))\n",
    "\n",
    "score2 = model2.evaluate(x_test, y_test, verbose=0)\n",
    "\n",
    "print('Test loss: {0},      Test accuracy: {1}'.format(score2[0], score2[1]))"
   ]
  },
  {
   "cell_type": "markdown",
   "metadata": {},
   "source": [
    "### Increasing the width of the model\n",
    "\n",
    "Note the width on the above models is 16 neurons. This is not many! Let's increase this to 512 for the non-output layers:"
   ]
  },
  {
   "cell_type": "code",
   "execution_count": 53,
   "metadata": {},
   "outputs": [
    {
     "name": "stdout",
     "output_type": "stream",
     "text": [
      "_________________________________________________________________\n",
      "Layer (type)                 Output Shape              Param #   \n",
      "=================================================================\n",
      "dense_11 (Dense)             (None, 512)               1536      \n",
      "_________________________________________________________________\n",
      "dropout_2 (Dropout)          (None, 512)               0         \n",
      "_________________________________________________________________\n",
      "dense_12 (Dense)             (None, 512)               262656    \n",
      "_________________________________________________________________\n",
      "dropout_3 (Dropout)          (None, 512)               0         \n",
      "_________________________________________________________________\n",
      "dense_13 (Dense)             (None, 2)                 1026      \n",
      "=================================================================\n",
      "Total params: 265,218\n",
      "Trainable params: 265,218\n",
      "Non-trainable params: 0\n",
      "_________________________________________________________________\n",
      "Model 3 summary: None\n",
      "Test loss: 1.1920928955078125e-07,      Test accuracy: 1.0\n"
     ]
    }
   ],
   "source": [
    "# Base model\n",
    "model3 = Sequential()\n",
    "# 1st (Input) layer\n",
    "model3.add(Dense(512, activation='relu', input_shape=(2,)))\n",
    "model3.add(Dropout(0.2))  # Increased the drop-out rate\n",
    "\n",
    "# 2nd (Hidden) layer\n",
    "model3.add(Dense(512, activation='relu'))\n",
    "model3.add(Dropout(0.2))\n",
    "\n",
    "# 3rd (Output) layer\n",
    "model3.add(Dense(num_classes, activation='softmax'))\n",
    "\n",
    "print(\"Model 3 summary: {0}\".format(model3.summary()))\n",
    "\n",
    "model3.compile(loss='categorical_crossentropy',\n",
    "              optimizer=RMSprop(),\n",
    "              metrics=['accuracy'])\n",
    "\n",
    "history3 = model3.fit(x_train, y_train,\n",
    "                    batch_size=batch_size,\n",
    "                    epochs=num_epochs,\n",
    "                    verbose=0,\n",
    "                    validation_data=(x_test, y_test))\n",
    "\n",
    "score3 = model3.evaluate(x_test, y_test, verbose=0)\n",
    "\n",
    "print('Test loss: {0},      Test accuracy: {1}'.format(score3[0], score3[1]))"
   ]
  },
  {
   "cell_type": "markdown",
   "metadata": {},
   "source": [
    "So increasing the model's depth improved the validation accuracy and reduced the error.\n",
    "\n",
    "It is interesting to see how the training and validation errors of each of these models improves with each epoch:"
   ]
  },
  {
   "cell_type": "markdown",
   "metadata": {},
   "source": [
    "![Comparison of the four models as a function of epoch. Note the decrease in error rate with epoch is rapid in the early stages of training.](images/Perceptron_training_comparisons.png)"
   ]
  },
  {
   "cell_type": "markdown",
   "metadata": {},
   "source": [
    "### Appropriate applications of Artificial Neural Networks\n",
    "\n",
    "Because ANNs are 'universal approximators,' as well as based on a large number of small, simple, units, they are great where:\n",
    " * The relationships between variables are poorly understood or analytically complex\n",
    " * There is a lot of data\n",
    " \n",
    "They are not so great because:\n",
    " * Principal features are not explicitly apparent; decisions are opaque for deep networks\n",
    " * They can be slow to train, requiring a number of epochs "
   ]
  },
  {
   "cell_type": "markdown",
   "metadata": {},
   "source": [
    "### Additional resources\n",
    "\n",
    "\n",
    "**Websites:** \n",
    "\n",
    "  * Michael A. Neilsen's _Neural Nets and Deep Learning_: http://neuralnetworksanddeeplearning.com/\n",
    "  * Ian Goodfellow, Yoshua Bengio and Aaron Courville's _Deep Learning_: http://www.deeplearningbook.org\n",
    "\n",
    "**YouTube channels:**\n",
    "\n",
    " * Andrew Ng's _Machine Learning_: https://www.youtube.com/watch?v=PPLop4L2eGk&list=PLLssT5z_DsK-h9vYZkQkYNWcItqhlRJLN\n",
    " * Sentdex's _Practical Machine Learning with Python_: https://www.youtube.com/watch?v=OGxgnH8y2NM&index=1&list=PLQVvvaa0QuDfKTOs3Keq_kaG2P55YRn5v\n",
    "\n",
    "**Platforms:** \n",
    "\n",
    " * Kaggle: https://www.kaggle.com/\n",
    " * Coursera (Andrew Ng again): https://www.coursera.org/learn/machine-learning"
   ]
  },
  {
   "cell_type": "markdown",
   "metadata": {},
   "source": [
    "# Conclusion\n",
    "\n",
    "\n",
    "This was a very brief introduction to the field of artificial neural networks (ANNs) and Deep Learning!\n",
    "\n",
    "We have examined the theoretical justification for (ANNs), demonstrating that they are great ‘universal approximators’. We also covered their use-cases and some of their pit-falls.\n",
    "\n",
    "We also had a brief introduction to TensorFlow and Keras. We built a feed-forward network (a Multi-Layer Perceptron; MLP) to approximate complex functions. We ‘tweaked’ this model, improving the output, and evaluated its performance. In order to determine this, we also covered the concepts of appropriate activation functions, optimizers and cost functions.\n",
    "\n",
    "Perhaps most importantly: we have figured out how to be satisfied with a simple meal at an altitude of 30,000 feet. People have been trying to achieve this for years!"
   ]
  }
 ],
 "metadata": {
  "kernelspec": {
   "display_name": "Python 3",
   "language": "python",
   "name": "python3"
  },
  "language_info": {
   "codemirror_mode": {
    "name": "ipython",
    "version": 3
   },
   "file_extension": ".py",
   "mimetype": "text/x-python",
   "name": "python",
   "nbconvert_exporter": "python",
   "pygments_lexer": "ipython3",
   "version": "3.6.7"
  }
 },
 "nbformat": 4,
 "nbformat_minor": 2
}
